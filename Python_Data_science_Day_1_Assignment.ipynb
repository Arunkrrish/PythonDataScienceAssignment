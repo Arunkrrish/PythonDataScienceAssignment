{
  "nbformat": 4,
  "nbformat_minor": 0,
  "metadata": {
    "colab": {
      "name": "Python Data science Day 1 Assignment.ipynb",
      "provenance": [],
      "collapsed_sections": []
    },
    "kernelspec": {
      "name": "python3",
      "display_name": "Python 3"
    },
    "language_info": {
      "name": "python"
    }
  },
  "cells": [
    {
      "cell_type": "markdown",
      "metadata": {
        "id": "TCAjFFZVk1pY"
      },
      "source": [
        "Arithmetic operation"
      ]
    },
    {
      "cell_type": "code",
      "metadata": {
        "id": "sxhhNVGpk6pJ"
      },
      "source": [
        "a = 20\n",
        "b = 10"
      ],
      "execution_count": 1,
      "outputs": []
    },
    {
      "cell_type": "code",
      "metadata": {
        "colab": {
          "base_uri": "https://localhost:8080/"
        },
        "id": "G5UbnIDA4Bse",
        "outputId": "589e7b2b-3e2a-40da-c677-e69e0f41e8fd"
      },
      "source": [
        "print(a+b)"
      ],
      "execution_count": 2,
      "outputs": [
        {
          "output_type": "stream",
          "name": "stdout",
          "text": [
            "30\n"
          ]
        }
      ]
    },
    {
      "cell_type": "code",
      "metadata": {
        "colab": {
          "base_uri": "https://localhost:8080/"
        },
        "id": "jRuFOpL14FrH",
        "outputId": "fac09359-0ae0-4e55-9216-44c002a54a7f"
      },
      "source": [
        "print(a-b)"
      ],
      "execution_count": 3,
      "outputs": [
        {
          "output_type": "stream",
          "name": "stdout",
          "text": [
            "10\n"
          ]
        }
      ]
    },
    {
      "cell_type": "code",
      "metadata": {
        "colab": {
          "base_uri": "https://localhost:8080/"
        },
        "id": "7T8ZoQq34Jri",
        "outputId": "9a935a69-5247-4628-99ff-07060d25fc6b"
      },
      "source": [
        "print(a*b)"
      ],
      "execution_count": 4,
      "outputs": [
        {
          "output_type": "stream",
          "name": "stdout",
          "text": [
            "200\n"
          ]
        }
      ]
    },
    {
      "cell_type": "code",
      "metadata": {
        "colab": {
          "base_uri": "https://localhost:8080/"
        },
        "id": "YAA5OOX54MJ1",
        "outputId": "d4e21f41-e07b-46f4-faa6-773c9c6d5663"
      },
      "source": [
        "print(a/b)"
      ],
      "execution_count": 5,
      "outputs": [
        {
          "output_type": "stream",
          "name": "stdout",
          "text": [
            "2.0\n"
          ]
        }
      ]
    },
    {
      "cell_type": "code",
      "metadata": {
        "colab": {
          "base_uri": "https://localhost:8080/"
        },
        "id": "AhAIaSql4O7U",
        "outputId": "ce1aa14b-bb84-46d7-8359-98dead349fb8"
      },
      "source": [
        "print(a%b)"
      ],
      "execution_count": 6,
      "outputs": [
        {
          "output_type": "stream",
          "name": "stdout",
          "text": [
            "0\n"
          ]
        }
      ]
    },
    {
      "cell_type": "code",
      "metadata": {
        "colab": {
          "base_uri": "https://localhost:8080/"
        },
        "id": "mc75ZK8i4Qy9",
        "outputId": "ebe41ea8-0512-4e8d-d9e7-822fcd3b6cd5"
      },
      "source": [
        "print((a+b)*(a-b))"
      ],
      "execution_count": 7,
      "outputs": [
        {
          "output_type": "stream",
          "name": "stdout",
          "text": [
            "300\n"
          ]
        }
      ]
    },
    {
      "cell_type": "markdown",
      "metadata": {
        "id": "2zr-Q13N4k2s"
      },
      "source": [
        "#Write a program which accept principle, rate and time from user and print the simple interest. The formula to calculate simple interest is: simple interest = principle x rate x time / 100 Solution"
      ]
    },
    {
      "cell_type": "code",
      "metadata": {
        "colab": {
          "base_uri": "https://localhost:8080/"
        },
        "id": "NVlricbg4r8M",
        "outputId": "ce4025a4-d0bb-42ef-e244-38820741c38c"
      },
      "source": [
        "principle = int(input(\"Enter a principle: \"))"
      ],
      "execution_count": 15,
      "outputs": [
        {
          "name": "stdout",
          "output_type": "stream",
          "text": [
            "Enter a principle: 500000\n"
          ]
        }
      ]
    },
    {
      "cell_type": "code",
      "metadata": {
        "colab": {
          "base_uri": "https://localhost:8080/"
        },
        "id": "cZGyE1n55YN9",
        "outputId": "49ed98ea-2025-4340-cac2-24f635a265ec"
      },
      "source": [
        "time = int(input(\"Enter a time: \"))"
      ],
      "execution_count": 9,
      "outputs": [
        {
          "name": "stdout",
          "output_type": "stream",
          "text": [
            "Enter a time: 10\n"
          ]
        }
      ]
    },
    {
      "cell_type": "code",
      "metadata": {
        "colab": {
          "base_uri": "https://localhost:8080/"
        },
        "id": "JjeWBPKS5kkb",
        "outputId": "5fd56f57-a940-43b4-a374-f381019fe4f9"
      },
      "source": [
        "rate = int(input(\"Enter a Rate: \"))"
      ],
      "execution_count": 13,
      "outputs": [
        {
          "name": "stdout",
          "output_type": "stream",
          "text": [
            "Enter a Rate: 10\n"
          ]
        }
      ]
    },
    {
      "cell_type": "code",
      "metadata": {
        "colab": {
          "base_uri": "https://localhost:8080/"
        },
        "id": "kufgYzCk5tiY",
        "outputId": "61a5b107-0b2b-432a-d57d-a719226d6f33"
      },
      "source": [
        "Simple_Interest = principle*time*rate/100\n",
        "Simple_Interest"
      ],
      "execution_count": 16,
      "outputs": [
        {
          "output_type": "execute_result",
          "data": {
            "text/plain": [
              "500000.0"
            ]
          },
          "metadata": {},
          "execution_count": 16
        }
      ]
    }
  ]
}